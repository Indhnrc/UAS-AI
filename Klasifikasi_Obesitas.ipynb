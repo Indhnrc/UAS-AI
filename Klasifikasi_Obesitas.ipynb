{
  "nbformat": 4,
  "nbformat_minor": 0,
  "metadata": {
    "colab": {
      "provenance": [],
      "include_colab_link": true
    },
    "kernelspec": {
      "name": "python3",
      "display_name": "Python 3"
    },
    "language_info": {
      "name": "python"
    }
  },
  "cells": [
    {
      "cell_type": "markdown",
      "metadata": {
        "id": "view-in-github",
        "colab_type": "text"
      },
      "source": [
        "<a href=\"https://colab.research.google.com/github/Indhnrc/UAS-AI/blob/main/Klasifikasi_Obesitas.ipynb\" target=\"_parent\"><img src=\"https://colab.research.google.com/assets/colab-badge.svg\" alt=\"Open In Colab\"/></a>"
      ]
    },
    {
      "cell_type": "markdown",
      "source": [],
      "metadata": {
        "id": "wbHUF_ZmTUuK"
      }
    },
    {
      "cell_type": "code",
      "source": [
        "Klasifikasi Obesitas menggunakan KNN\n",
        "Dibuat oleh :Indah Nurcahyani"
      ],
      "metadata": {
        "id": "ZRG8m7pXwhbn"
      },
      "execution_count": null,
      "outputs": []
    },
    {
      "cell_type": "code",
      "source": [
        "import numpy as np\n",
        "import pandas as pd\n",
        "import matplotlib.pyplot as plt\n",
        "import seaborn as sns"
      ],
      "metadata": {
        "id": "tZ2KZf7oKVC5"
      },
      "execution_count": null,
      "outputs": []
    },
    {
      "cell_type": "code",
      "source": [
        "\n",
        "fdata=\"https://raw.githubusercontent.com/asepmuhidin/AI-UPB/refs/heads/main/dataset/gender_classification_v7.csv\"\n",
        "\n",
        "df = pd.read_csv(fdata)\n",
        "df.head() t\n"
      ],
      "metadata": {
        "id": "5nxEq2vdKhud"
      },
      "execution_count": null,
      "outputs": []
    },
    {
      "cell_type": "code",
      "source": [
        "\n",
        "#Cek Jumlah data, jumlah duplikasi, dan jumlah setelah dihapus baris duplikasi\n",
        "print(f\"Jumlah data : {df.shape[0]}\")\n",
        "print(f\"Jumlah data duplikasi : {df[df.duplicated()].shape[0]}\")\n",
        "#Drop duplicated\n",
        "df.drop_duplicates(inplace=True)\n",
        "print(f\"Jumlah setelah dihapus data duplikasi : {df.shape[0]}\")"
      ],
      "metadata": {
        "id": "gvjFVBZXKtvw"
      },
      "execution_count": null,
      "outputs": []
    },
    {
      "cell_type": "code",
      "source": [
        "\n",
        "df.isnull().sum()"
      ],
      "metadata": {
        "id": "aok9Iem2K_2h"
      },
      "execution_count": null,
      "outputs": []
    },
    {
      "cell_type": "code",
      "source": [
        "from sklearn.model_selection import train_test_split\n",
        "y=df.gender\n",
        "X=df.drop(\"gender\", axis=1)"
      ],
      "metadata": {
        "id": "wKGLlhX9Kr0M"
      },
      "execution_count": null,
      "outputs": []
    },
    {
      "cell_type": "code",
      "source": [
        "\n",
        "x_train,x_test,y_train,y_test=train_test_split(X,y,test_size=0.2, shuffle=True, stratify=y,random_state=12)\n",
        "print(f\"Jumlah data train : {len(x_train)}\")\n",
        "print(f\"Jumlah data test : {len(x_test )}\")"
      ],
      "metadata": {
        "id": "RnakffOgOcwf"
      },
      "execution_count": null,
      "outputs": []
    },
    {
      "cell_type": "code",
      "source": [
        "\n",
        "from sklearn.preprocessing import StandardScaler, OneHotEncoder, LabelEncoder\n"
      ],
      "metadata": {
        "id": "UJ4o3kZKMAt2"
      },
      "execution_count": null,
      "outputs": []
    },
    {
      "cell_type": "code",
      "source": [
        "scl=StandardScaler()\n",
        "x_train_scl=scl.fit_transform(x_train)\n",
        "x_test_scl=scl.transform(x_test)\n",
        "\n",
        "lbl_encoder=LabelEncoder()\n",
        "y_train_enc=lbl_encoder.fit_transform(y_train)\n",
        "y_test_enc=lbl_encoder.transform(y_test)"
      ],
      "metadata": {
        "id": "FQ5iGH7sMARu"
      },
      "execution_count": null,
      "outputs": []
    },
    {
      "cell_type": "code",
      "source": [
        "x_train"
      ],
      "metadata": {
        "id": "F_zs7c1qskLs"
      },
      "execution_count": null,
      "outputs": []
    },
    {
      "cell_type": "code",
      "source": [
        "x_train_scl"
      ],
      "metadata": {
        "id": "qUC1g7dSscPD"
      },
      "execution_count": null,
      "outputs": []
    },
    {
      "cell_type": "code",
      "source": [
        "y_train"
      ],
      "metadata": {
        "id": "SxDNiLxBsa2w"
      },
      "execution_count": null,
      "outputs": []
    },
    {
      "cell_type": "code",
      "source": [
        "y_train_enc"
      ],
      "metadata": {
        "id": "kxYIhJz1sZVw"
      },
      "execution_count": null,
      "outputs": []
    },
    {
      "cell_type": "code",
      "source": [
        "from sklearn.neighbors import KNeighborsClassifier\n",
        "\n"
      ],
      "metadata": {
        "id": "j8GSvYAEsYP4"
      },
      "execution_count": null,
      "outputs": []
    },
    {
      "cell_type": "code",
      "source": [
        "knn_classifier = KNeighborsClassifier(n_neighbors=5)\n",
        "knn_classifier.fit(x_train_scl, y_train_enc)\n"
      ],
      "metadata": {
        "id": "KEy4UnDptHlB"
      },
      "execution_count": null,
      "outputs": []
    },
    {
      "cell_type": "code",
      "source": [
        "from sklearn.metrics import accuracy_score, confusion_matrix\n"
      ],
      "metadata": {
        "id": "0vV_RHvktMJk"
      },
      "execution_count": null,
      "outputs": []
    },
    {
      "cell_type": "code",
      "source": [
        "\n",
        "knn_predictions = knn_classifier.predict(x_test_scl)\n",
        "knn_accuracy = accuracy_score(y_test_enc, knn_predictions)\n",
        "\n",
        "print(f'KNN accuracy: {knn_accuracy:.2f}')"
      ],
      "metadata": {
        "id": "SjgkIvPDtK2Z"
      },
      "execution_count": null,
      "outputs": []
    },
    {
      "cell_type": "code",
      "source": [
        "\n",
        "cm=confusion_matrix(y_test_enc,knn_predictions)\n",
        "plt.figure(figsize=(7, 6))\n",
        "sns.heatmap(cm, annot=True, fmt='d', cmap='Blues')\n",
        "\n",
        "plt.title('Confusion Matrix for KNN')\n",
        "plt.show()\n"
      ],
      "metadata": {
        "id": "R7cmwpKstI9d"
      },
      "execution_count": null,
      "outputs": []
    },
    {
      "cell_type": "code",
      "source": [
        "from sklearn.model_selection import cross_val_score\n"
      ],
      "metadata": {
        "id": "qDLJbPEVtCOC"
      },
      "execution_count": null,
      "outputs": []
    },
    {
      "cell_type": "code",
      "source": [
        "\n",
        "knn=KNeighborsClassifier(n_neighbors=5)\n",
        "score_sc=cross_val_score(knn,x_train_scl,y_train_enc,cv=5)\n",
        "print(score_sc)\n",
        "print(f\"Rata score dengan 5 fold : {score_sc.mean()}\")\n",
        "\n"
      ],
      "metadata": {
        "id": "UlQW-h0zwNL0"
      },
      "execution_count": null,
      "outputs": []
    },
    {
      "cell_type": "code",
      "source": [
        "n_=range(1,51,2)\n",
        "train,test=[],[]\n",
        "for n in n_:\n",
        "  knn=KNeighborsClassifier(n_neighbors=n)\n",
        "    knn.fit(x_train_scl,y_train_enc)\n",
        "      train.append(knn.score(x_train_scl,y_train_enc))\n",
        "        test.append(knn.score(x_test_scl,y_test_enc))"
      ],
      "metadata": {
        "id": "EGiAVstRwlnl"
      },
      "execution_count": null,
      "outputs": []
    },
    {
      "cell_type": "code",
      "source": [
        "plt.figure(figsize=(10,8))\n",
        "plt.plot(n_,train, label='Train')\n",
        "plt.plot(n_,test, label='Test')\n",
        "\n",
        "plt.legend()\n",
        "plt.show()"
      ],
      "metadata": {
        "id": "qh_dIn9swkX5"
      },
      "execution_count": null,
      "outputs": []
    },
    {
      "cell_type": "code",
      "source": [
        "print(f\"Max Test Score adalah {np.max(test)}\")\n",
        "print(f\"K Neighboard terbaik adalah {n_[np.argmax(test)]}\")\n"
      ],
      "metadata": {
        "id": "XtVjD_w2wiV_"
      },
      "execution_count": null,
      "outputs": []
    },
    {
      "cell_type": "markdown",
      "source": [],
      "metadata": {
        "id": "npc2aKqhyzad"
      }
    }
  ]
}