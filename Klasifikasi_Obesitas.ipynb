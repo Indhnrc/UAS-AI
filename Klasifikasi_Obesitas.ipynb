{
  "nbformat": 4,
  "nbformat_minor": 0,
  "metadata": {
    "colab": {
      "provenance": [],
      "authorship_tag": "ABX9TyNlPcZpJ3FDXIptBzBQ1/BG",
      "include_colab_link": true
    },
    "kernelspec": {
      "name": "python3",
      "display_name": "Python 3"
    },
    "language_info": {
      "name": "python"
    }
  },
  "cells": [
    {
      "cell_type": "markdown",
      "metadata": {
        "id": "view-in-github",
        "colab_type": "text"
      },
      "source": [
        "<a href=\"https://colab.research.google.com/github/Indhnrc/UAS-AI/blob/main/Klasifikasi_Obesitas.ipynb\" target=\"_parent\"><img src=\"https://colab.research.google.com/assets/colab-badge.svg\" alt=\"Open In Colab\"/></a>"
      ]
    },
    {
      "cell_type": "markdown",
      "source": [],
      "metadata": {
        "id": "wbHUF_ZmTUuK"
      }
    },
    {
      "cell_type": "code",
      "source": [
        "import numpy as np\n",
        "import pandas as pd\n",
        "import matplotlib.pyplot as plt\n",
        "import seaborn as sns"
      ],
      "metadata": {
        "id": "tZ2KZf7oKVC5"
      },
      "execution_count": null,
      "outputs": []
    },
    {
      "cell_type": "code",
      "source": [
        "\n",
        "fdata=\"https://raw.githubusercontent.com/asepmuhidin/AI-UPB/refs/heads/main/dataset/gender_classification_v7.csv\"\n",
        "\n",
        "df = pd.read_csv(fdata)\n",
        "df.head() t\n",
        ""
      ],
      "metadata": {
        "id": "5nxEq2vdKhud"
      },
      "execution_count": null,
      "outputs": []
    },
    {
      "cell_type": "code",
      "source": [
        "\n",
        "#Cek Jumlah data, jumlah duplikasi, dan jumlah setelah dihapus baris duplikasi\n",
        "print(f\"Jumlah data : {df.shape[0]}\")\n",
        "print(f\"Jumlah data duplikasi : {df[df.duplicated()].shape[0]}\")\n",
        "#Drop duplicated\n",
        "df.drop_duplicates(inplace=True)\n",
        "print(f\"Jumlah setelah dihapus data duplikasi : {df.shape[0]}\")"
      ],
      "metadata": {
        "id": "gvjFVBZXKtvw"
      },
      "execution_count": null,
      "outputs": []
    },
    {
      "cell_type": "code",
      "source": [
        "\n",
        "df.isnull().sum()"
      ],
      "metadata": {
        "id": "aok9Iem2K_2h"
      },
      "execution_count": null,
      "outputs": []
    },
    {
      "cell_type": "code",
      "source": [
        "from sklearn.model_selection import train_test_split\n",
        "y=df.gender\n",
        "X=df.drop(\"gender\", axis=1)"
      ],
      "metadata": {
        "id": "wKGLlhX9Kr0M"
      },
      "execution_count": null,
      "outputs": []
    },
    {
      "cell_type": "code",
      "source": [],
      "metadata": {
        "id": "RnakffOgOcwf"
      },
      "execution_count": null,
      "outputs": []
    },
    {
      "cell_type": "code",
      "source": [],
      "metadata": {
        "id": "UJ4o3kZKMAt2"
      },
      "execution_count": null,
      "outputs": []
    },
    {
      "cell_type": "code",
      "source": [],
      "metadata": {
        "id": "FQ5iGH7sMARu"
      },
      "execution_count": null,
      "outputs": []
    },
    {
      "cell_type": "markdown",
      "source": [],
      "metadata": {
        "id": "1NyqCMSPELzo"
      }
    }
  ]
}